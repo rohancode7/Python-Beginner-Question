{
 "cells": [
  {
   "cell_type": "code",
   "execution_count": 3,
   "id": "10113e5b-d0e2-408f-8b02-4f15db5337c5",
   "metadata": {},
   "outputs": [
    {
     "name": "stdin",
     "output_type": "stream",
     "text": [
      "Enter The Number: 456\n"
     ]
    },
    {
     "name": "stdout",
     "output_type": "stream",
     "text": [
      "The Last Digit of 456 is : 6\n"
     ]
    }
   ],
   "source": [
    "# WAP to display  the last digit of a numbe.(Don,t Use Indexing for This .\n",
    "\n",
    "num = int(input(\"Enter The Number:\"))\n",
    "print(f\"The Last Digit of {num} is : {num%10}\")"
   ]
  },
  {
   "cell_type": "code",
   "execution_count": 10,
   "id": "a866bbbd-c95e-4435-b55c-dd64f1ffa9eb",
   "metadata": {},
   "outputs": [
    {
     "name": "stdin",
     "output_type": "stream",
     "text": [
      "Enter The Number: 561\n"
     ]
    },
    {
     "name": "stdout",
     "output_type": "stream",
     "text": [
      "The Number -> 561 is ODD\n"
     ]
    }
   ],
   "source": [
    "# WAP to check if a number is even or odd where the number is takes as input.\n",
    "\n",
    "num = int(input(\"Enter The Number:\"))\n",
    "if num%2 == 0 :\n",
    "    print(f\"The Number -> {num} is Even\")\n",
    "else:\n",
    "    print(f\"The Number -> {num} is ODD\")"
   ]
  },
  {
   "cell_type": "code",
   "execution_count": 17,
   "id": "5fd3d9cb-f285-4ba9-949a-4cdcb72b008b",
   "metadata": {},
   "outputs": [
    {
     "name": "stdin",
     "output_type": "stream",
     "text": [
      "Enter The String: aefiop\n"
     ]
    },
    {
     "name": "stdout",
     "output_type": "stream",
     "text": [
      "The Last 3rd Character of aefiop is Vowel\n"
     ]
    }
   ],
   "source": [
    "# WAP to check if the 3rd last Character of a string is a vowel or not.\n",
    "\n",
    "string = input(\"Enter The String:\").lower()\n",
    "if string[-3] in \"aeiou\":\n",
    "    print(f\"The Last 3rd Character of {string} is Vowel\")\n",
    "else:\n",
    "    print(f\"The Last 3rd Character of {string} is not Vowel\")"
   ]
  },
  {
   "cell_type": "code",
   "execution_count": 19,
   "id": "cf375123-37d6-4876-9cbd-c145160140eb",
   "metadata": {},
   "outputs": [
    {
     "name": "stdout",
     "output_type": "stream",
     "text": [
      "Yes,The First and Last Number is Same\n"
     ]
    }
   ],
   "source": [
    "# Check if the first and last number of a list is same or not .Take a pre-defined list in the code itself.\n",
    "\n",
    "l1 = [32,34,23,54,65,32]\n",
    "\n",
    "if l1[0] == l1[-1]:\n",
    "    print(\"Yes,The First and Last Number is Same\")\n",
    "else:\n",
    "    print(\"Not Same\")\n"
   ]
  },
  {
   "cell_type": "code",
   "execution_count": 37,
   "id": "4e462950-1889-496c-8438-2f446a86a587",
   "metadata": {},
   "outputs": [
    {
     "name": "stdin",
     "output_type": "stream",
     "text": [
      "Enter Your Income: 1600000\n"
     ]
    },
    {
     "name": "stdout",
     "output_type": "stream",
     "text": [
      "The Tax According to 30% is : 170000.0\n"
     ]
    }
   ],
   "source": [
    "# Calculate the income tax for the input income by adhering to the indian rules.\n",
    "\n",
    "income = float(input(\"Enter Your Income:\"))\n",
    "\n",
    "if income <= 300000:\n",
    "    print(\"NO INCOME TAX GENERATED:\")\n",
    "elif income >= 300001 and income <= 700000:\n",
    "    print(f\"The Tax According to 5% is : {(income-300000)*5/100 }\")\n",
    "elif income >= 700001 and income <= 1000000:\n",
    "    print(f\"The Tax According To 10% is : {((income - 700000)*10/100)+400000*5/100}\")\n",
    "elif income >= 1000001 and income <= 1200000:\n",
    "    print(f\"The Tax According to 15% is : {((income-1000000)*15/100)+300000*10/100+400000*5/100}\")\n",
    "elif income >= 1200001 and income <= 1500000:\n",
    "    print(f\"The Tax According to 20% is : {((income - 1200000)*20/100)+200000*15/100+300000*10/100+400000*5/100}\")\n",
    "elif income > 1500000:\n",
    "    print(f\"The Tax According to 30% is : {((income - 1500000)*30/100)+300000*20/100+200000*15/100+300000*10/100+400000*5/100}\")\n",
    "else:\n",
    "    print(\"Invalid Input\")\n",
    "\n",
    "    "
   ]
  },
  {
   "cell_type": "code",
   "execution_count": 48,
   "id": "f73913f9-dfad-4c6b-b026-dbf40ec324c5",
   "metadata": {},
   "outputs": [
    {
     "name": "stdin",
     "output_type": "stream",
     "text": [
      "Enter the string: Iran\n"
     ]
    },
    {
     "name": "stdout",
     "output_type": "stream",
     "text": [
      "Yes Start with Vowel\n"
     ]
    }
   ],
   "source": [
    "# Write a Python Program to check whether a string starts with vowel or not.\n",
    "\n",
    "string = input(\"Enter the string:\").lower()\n",
    "if string.isalpha():\n",
    "    if string[0] in \"aeiou\":\n",
    "        print(\"Yes Start with Vowel\")\n",
    "    else:\n",
    "        print(\"NO , Not start with Vowel\")\n",
    "else:\n",
    "    print(\"Invalid Input\")"
   ]
  },
  {
   "cell_type": "code",
   "execution_count": 53,
   "id": "627df9ad-3cd5-45f1-8eca-78e4a1ded6f0",
   "metadata": {},
   "outputs": [
    {
     "name": "stdin",
     "output_type": "stream",
     "text": [
      "Enter the Name of The Student: Rohan\n"
     ]
    },
    {
     "name": "stdout",
     "output_type": "stream",
     "text": [
      "------------Marks Entry-------------\n"
     ]
    },
    {
     "name": "stdin",
     "output_type": "stream",
     "text": [
      "Enter the English Marks of the Student: 45\n",
      "Enter the Maths Marks of the Student: 68\n",
      "Enter the Hindi Marks of the Student: 78\n",
      "Enter the Science Marks of the Student: 32\n",
      "Enter the Computer Marks of the Student: 45\n"
     ]
    },
    {
     "name": "stdout",
     "output_type": "stream",
     "text": [
      "The Percentage of Rohan is : 53.6\n"
     ]
    }
   ],
   "source": [
    "# WAP to Calculate percentage of a student through 5 subjects. Take Marks as input from the User.\n",
    "\n",
    "name = input(\"Enter the Name of The Student:\")\n",
    "print(\"------------Marks Entry-------------\")\n",
    "eng  = int(input(\"Enter the English Marks of the Student:\"))\n",
    "math = int(input(\"Enter the Maths Marks of the Student:\"))\n",
    "hind = int(input(\"Enter the Hindi Marks of the Student:\"))\n",
    "scie = int(input(\"Enter the Science Marks of the Student:\"))\n",
    "comp = int(input(\"Enter the Computer Marks of the Student:\"))\n",
    "total = eng+math+hind+scie+comp\n",
    "print(f\"The Percentage of {name} is : {(total/500)*100}\")\n",
    "\n"
   ]
  },
  {
   "cell_type": "code",
   "execution_count": 54,
   "id": "dd040934-ad40-433d-8c1d-259a1ffa457a",
   "metadata": {},
   "outputs": [
    {
     "name": "stdin",
     "output_type": "stream",
     "text": [
      "Enter the Temperature in Celcius: 20\n"
     ]
    },
    {
     "name": "stdout",
     "output_type": "stream",
     "text": [
      "The Temperature 20.0 in fahrenhiet is : 68.0\n"
     ]
    }
   ],
   "source": [
    "# WAP to Convert a celsius value to fahernhiet.Take celsius value as input.\n",
    "\n",
    "c_temp = float(input(\"Enter the Temperature in Celcius:\"))\n",
    "print(f\"The Temperature {c_temp} in fahrenhiet is : {(c_temp*1.8)+32}\")"
   ]
  },
  {
   "cell_type": "code",
   "execution_count": 59,
   "id": "efb0f452-72e8-427a-8d69-b1da0a403681",
   "metadata": {},
   "outputs": [
    {
     "name": "stdin",
     "output_type": "stream",
     "text": [
      "Enter the Side 1 Length: 4\n",
      "Enter the Side 2 Length: 5\n",
      "Enter the Side 3 Length: 6\n"
     ]
    },
    {
     "name": "stdout",
     "output_type": "stream",
     "text": [
      "9.921567416492215\n"
     ]
    }
   ],
   "source": [
    "# WAP to calculate the surface area of a traingle. Take the length of sides as input.\n",
    "\n",
    "a = float(input(\"Enter the Side 1 Length:\"))\n",
    "b = float(input(\"Enter the Side 2 Length:\"))\n",
    "c = float(input(\"Enter the Side 3 Length:\"))\n",
    "\n",
    "# Using Heron's Formula\n",
    "s = (a+b+c)/2\n",
    "area = (s*(s-a)*(s-b)*(s-c))**0.5\n",
    "print(area)"
   ]
  },
  {
   "cell_type": "code",
   "execution_count": 67,
   "id": "c5671cd2-e4d3-406d-92c1-f18d81fee5ee",
   "metadata": {},
   "outputs": [
    {
     "name": "stdin",
     "output_type": "stream",
     "text": [
      "Enter The Number (1-7): 3\n"
     ]
    },
    {
     "name": "stdout",
     "output_type": "stream",
     "text": [
      "Wedenday\n"
     ]
    }
   ],
   "source": [
    "# WAP to Print Day Based on the given number as input.\n",
    "\n",
    "day_list = [\"Monday\",\"Tuesday\",\"Wedenday\",\"Thursday\",\"Friday\",\"Saturday\",\"Sunday\"]\n",
    "day_num  = int(input(\"Enter The Number (1-7):\"))\n",
    "if 1 <= day_num <=7 :\n",
    "    print(day_list[day_num - 1])\n",
    "else:\n",
    "    print(\"Invalid Input\")"
   ]
  },
  {
   "cell_type": "code",
   "execution_count": 72,
   "id": "285a2855-5981-453c-a311-272d44df6dc3",
   "metadata": {},
   "outputs": [
    {
     "name": "stdin",
     "output_type": "stream",
     "text": [
      "Enter the Your Age: 0\n"
     ]
    },
    {
     "name": "stdout",
     "output_type": "stream",
     "text": [
      "Not Eligible\n"
     ]
    }
   ],
   "source": [
    "# WAP to check whether a person is eligible to vote or not.\n",
    "\n",
    "age = int(input(\"Enter the Your Age:\"))\n",
    "if age >= 18 :\n",
    "    print(\"Eligible to Vote\")\n",
    "else:\n",
    "    print(\"Not Eligible\")"
   ]
  },
  {
   "cell_type": "code",
   "execution_count": 74,
   "id": "5523b863-acdf-48c5-ba24-fb3871cd0179",
   "metadata": {},
   "outputs": [
    {
     "name": "stdin",
     "output_type": "stream",
     "text": [
      "Enter the String: Ramu\n"
     ]
    },
    {
     "name": "stdout",
     "output_type": "stream",
     "text": [
      "The Length of The String is : 4\n"
     ]
    }
   ],
   "source": [
    "# WAP to calculate the count of elements in a string.\n",
    "\n",
    "string = input(\"Enter the String:\")\n",
    "print(f\"The Length of The String is : {len(string)}\")\n"
   ]
  },
  {
   "cell_type": "code",
   "execution_count": 76,
   "id": "d7b912a7-9b2c-4a84-8f1c-ad0837e7f88b",
   "metadata": {},
   "outputs": [
    {
     "name": "stdin",
     "output_type": "stream",
     "text": [
      "Enter the Side 1 : 54\n",
      "Enter the Side 2 : 456\n",
      "Enter the Side 3 : 415\n"
     ]
    },
    {
     "name": "stdout",
     "output_type": "stream",
     "text": [
      "Not Equilateral\n"
     ]
    }
   ],
   "source": [
    "# WAP to Check The Triangel is Equilateral or Not.\n",
    "\n",
    "a = float(input(\"Enter the Side 1 :\"))\n",
    "b = float(input(\"Enter the Side 2 :\"))\n",
    "c = float(input(\"Enter the Side 3 :\"))\n",
    "if a==b==c:\n",
    "    print(\"Equilateral\")\n",
    "else:\n",
    "    print(\"Not Equilateral\")"
   ]
  },
  {
   "cell_type": "code",
   "execution_count": 86,
   "id": "ffbbf27a-26d8-412f-aa8e-f7ce7d6b555e",
   "metadata": {},
   "outputs": [
    {
     "name": "stdin",
     "output_type": "stream",
     "text": [
      "Enter the Digit: 145238\n"
     ]
    },
    {
     "name": "stdout",
     "output_type": "stream",
     "text": [
      "Yes\n"
     ]
    }
   ],
   "source": [
    "# WAP to check if the 2nd last digit of numerical input from the user is divisible by 3 or not.\n",
    "\n",
    "num  = int(input(\"Enter the Digit:\"))\n",
    "snum = str(num)\n",
    "if len(snum) >= 2 :\n",
    "    lnum = snum[-2]\n",
    "    if int(lnum)%3==0:\n",
    "        print(\"Yes\")\n",
    "    else:\n",
    "        print(\"No\")\n",
    "else:\n",
    "    print(\"There is No 2nd Last Digit\")"
   ]
  },
  {
   "cell_type": "code",
   "execution_count": 89,
   "id": "71d2cc73-c3fc-4b61-8ec0-171bd4e26324",
   "metadata": {},
   "outputs": [
    {
     "name": "stdin",
     "output_type": "stream",
     "text": [
      "Enter the first Number: 2\n",
      "Enter the Second Number: 1\n"
     ]
    },
    {
     "name": "stdout",
     "output_type": "stream",
     "text": [
      "2 is Greater\n"
     ]
    }
   ],
   "source": [
    "# Write a python program that takes two numbers as input from the user and prints the larger of the two numbers.\n",
    "\n",
    "num1 = int(input(\"Enter the first Number:\"))\n",
    "num2 = int(input(\"Enter the Second Number:\"))\n",
    "if num1 > num2:\n",
    "    print(f\"{num1} is Greater\")\n",
    "else:\n",
    "    print(f\"{num2} is Greater\")"
   ]
  }
 ],
 "metadata": {
  "kernelspec": {
   "display_name": "Python 3 (ipykernel)",
   "language": "python",
   "name": "python3"
  },
  "language_info": {
   "codemirror_mode": {
    "name": "ipython",
    "version": 3
   },
   "file_extension": ".py",
   "mimetype": "text/x-python",
   "name": "python",
   "nbconvert_exporter": "python",
   "pygments_lexer": "ipython3",
   "version": "3.10.0"
  }
 },
 "nbformat": 4,
 "nbformat_minor": 5
}
